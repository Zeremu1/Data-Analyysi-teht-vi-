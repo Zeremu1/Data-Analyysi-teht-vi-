{
 "cells": [
  {
   "cell_type": "code",
   "execution_count": 1,
   "metadata": {},
   "outputs": [],
   "source": [
    "import pandas as pd"
   ]
  },
  {
   "cell_type": "markdown",
   "metadata": {},
   "source": [
    "Concat"
   ]
  },
  {
   "cell_type": "code",
   "execution_count": 10,
   "metadata": {},
   "outputs": [
    {
     "name": "stdout",
     "output_type": "stream",
     "text": [
      "Yhdistetty DataFrame käyttämällä concat:\n",
      "   tilausNumero      tuoteNimi  määrä\n",
      "0             2  Hampurilainen      2\n",
      "1             1          Pizza      1\n",
      "2             3       Salaatti      3\n",
      "3             4         Keitto      1\n",
      "4             6  Hampurilainen      3\n",
      "5             5          Wokki      4\n"
     ]
    }
   ],
   "source": [
    "portions_data1 = {'tilausNumero': [2, 1, 3], 'tuoteNimi': ['Hampurilainen', 'Pizza', 'Salaatti'], 'määrä': [2, 1, 3]}\n",
    "df1 = pd.DataFrame(portions_data1)\n",
    "\n",
    "portions_data2 = {'tilausNumero': [4, 6, 5], 'tuoteNimi': ['Keitto', 'Hampurilainen', 'Wokki'], 'määrä': [1, 3, 4]}\n",
    "df2 = pd.DataFrame(portions_data2)\n",
    "\n",
    "# Concatenate DataFrames\n",
    "combined_df = pd.concat([df1, df2], ignore_index=True) \n",
    "print(\"Yhdistetty DataFrame käyttämällä concat:\")\n",
    "print(combined_df)"
   ]
  },
  {
   "cell_type": "markdown",
   "metadata": {},
   "source": [
    "Merge"
   ]
  },
  {
   "cell_type": "code",
   "execution_count": 8,
   "metadata": {},
   "outputs": [
    {
     "name": "stdout",
     "output_type": "stream",
     "text": [
      "\n",
      "Yhdistetty DataFrame käyttämällä merge:\n",
      "   tilausNumero asiakkaanNimi  hinta      tuoteNimi  määrä\n",
      "0             1         Teemu  25.50          Pizza      1\n",
      "1             2         Anssi  30.20  Hampurilainen      2\n",
      "2             3         Pekka  15.75       Salaatti      3\n"
     ]
    }
   ],
   "source": [
    "orders_data = {'tilausNumero': [1, 2, 3], 'asiakkaanNimi': ['Teemu', 'Anssi', 'Pekka'], 'hinta': [25.5, 30.2, 15.75]}\n",
    "orders_df = pd.DataFrame(orders_data)\n",
    "\n",
    "portions_data = {'tilausNumero': [2, 1, 3], 'tuoteNimi': ['Hampurilainen', 'Pizza', 'Salaatti'], 'määrä': [2, 1, 3]}\n",
    "portions_df = pd.DataFrame(portions_data)\n",
    "\n",
    "# Merge DataFrames based on 'order_id'\n",
    "merged_df = pd.merge(orders_df, portions_df, on='tilausNumero')\n",
    "print(\"\\nYhdistetty DataFrame käyttämällä merge:\")\n",
    "print(merged_df) "
   ]
  }
 ],
 "metadata": {
  "kernelspec": {
   "display_name": "Python 3",
   "language": "python",
   "name": "python3"
  },
  "language_info": {
   "codemirror_mode": {
    "name": "ipython",
    "version": 3
   },
   "file_extension": ".py",
   "mimetype": "text/x-python",
   "name": "python",
   "nbconvert_exporter": "python",
   "pygments_lexer": "ipython3",
   "version": "3.13.0"
  }
 },
 "nbformat": 4,
 "nbformat_minor": 2
}
