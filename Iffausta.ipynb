{
 "cells": [
  {
   "cell_type": "code",
   "execution_count": 6,
   "metadata": {},
   "outputs": [
    {
     "name": "stdout",
     "output_type": "stream",
     "text": [
      "number 1 greater than number2 AND number1 greater than number3\n",
      "number1 greater than number2\n"
     ]
    }
   ],
   "source": [
    "number1 = 5\n",
    "number2 = 2\n",
    "number3 = 4\n",
    "\n",
    "if number1 == number2 == number3:\n",
    "\t#print(\"number1 is equal to number2\")\n",
    "#elif number1 >= number2:\n",
    "\t#print(\"number1 is greater or equal to number2\")\n",
    "#elif number1 < number2:\n",
    "\t#print(\"number1 is NOT equal to number2\")\n",
    "#else:\n",
    "\t#print(\"number1 is greater than number2\")\n",
    "    print(\"all number are equal\")\n",
    "elif number1 == number2 or number2 == number3:\n",
    "    print(\"number1 and number2 are equal OR number2 and number3 are equal\")\n",
    "elif number1 > number2 and number1 > number3:\n",
    "    print(\"number 1 greater than number2 AND number1 greater than number3\")\n",
    "if number1 > number2:\n",
    "    print(\"number1 greater than number2\")\n",
    "elif number2 > number3:\n",
    "    print(\"number2 greater than number3\")\n",
    "if number1 == number2:\n",
    "    print(\"number1 and number2 are equal\")\n",
    "elif number1 == number3:\n",
    "    print(\"number1 equals number3\")"
   ]
  },
  {
   "cell_type": "code",
   "execution_count": 12,
   "metadata": {},
   "outputs": [
    {
     "name": "stdout",
     "output_type": "stream",
     "text": [
      "Kalat ei ollut samoja\n",
      "Kalat 1 ja 3 on samat\n"
     ]
    }
   ],
   "source": [
    "name1 = \"Lohi\"\n",
    "name2 = \"Lahna\"\n",
    "name3 = \"Lohi\"\n",
    "\n",
    "if name1 == name2:\n",
    "    print(\"Kalat 1 ja 2 on samoja\")\n",
    "elif name1 != name2:\n",
    "    print(\"Kalat ei ollut samoja\")\n",
    "if name1 == name2:\n",
    "    print(\"kalat 1 ja 2 on samat\")\n",
    "elif name1 == name3:\n",
    "    print(\"Kalat 1 ja 3 on samat\")"
   ]
  }
 ],
 "metadata": {
  "kernelspec": {
   "display_name": "Python 3",
   "language": "python",
   "name": "python3"
  },
  "language_info": {
   "codemirror_mode": {
    "name": "ipython",
    "version": 3
   },
   "file_extension": ".py",
   "mimetype": "text/x-python",
   "name": "python",
   "nbconvert_exporter": "python",
   "pygments_lexer": "ipython3",
   "version": "3.13.0"
  }
 },
 "nbformat": 4,
 "nbformat_minor": 2
}
