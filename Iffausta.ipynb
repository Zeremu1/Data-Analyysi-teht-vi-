{
 "cells": [
  {
   "cell_type": "code",
   "execution_count": null,
   "metadata": {},
   "outputs": [
    {
     "name": "stdout",
     "output_type": "stream",
     "text": [
      "number 1 greater than number2 AND number1 greater than number3\n",
      "number1 greater than number2\n"
     ]
    }
   ],
   "source": [
    "number1 = 5\n",
    "number2 = 2\n",
    "number3 = 4\n",
    "\n",
    "if number1 == number2 == number3:\n",
    "    print(\"all numbers are equal\")\n",
    "elif number1 == number2 or number2 == number3:\n",
    "    print(\"number1 and number2 are equal OR number2 and number3 are equal\")\n",
    "elif number1 > number2 and number1 > number3:\n",
    "    print(\"number1 greater than number2 AND number1 greater than number3\")\n",
    "if number1 > number2:\n",
    "    print(\"number1 greater than number2\")\n",
    "elif number2 > number3:\n",
    "    print(\"number2 greater than number3\")\n",
    "if number1 == number2:\n",
    "    print(\"number1 and number2 are equal\")\n",
    "elif number1 == number3:\n",
    "    print(\"number1 equals number3\")"
   ]
  },
  {
   "cell_type": "code",
   "execution_count": null,
   "metadata": {},
   "outputs": [
    {
     "name": "stdout",
     "output_type": "stream",
     "text": [
      "Kalat ei ollut samoja\n"
     ]
    }
   ],
   "source": [
    "name1 = \"Lohi\"\n",
    "name2 = \"Lahna\"\n",
    "name3 = \"Hauki\"\n",
    "\n",
    "if name1 == name2:\n",
    "    print(\"Kalat 1 ja 2 ovat samoja\")\n",
    "elif name1 != name2:\n",
    "    print(\"Kalat eivät ollut samoja\")\n",
    "if name1 == name2:\n",
    "    print(\"Kalat 1 ja 2 ovat samat\")\n",
    "elif name1 == name3:\n",
    "    print(\"Kalat 1 ja 3 ovat samat\")"
   ]
  }
 ],
 "metadata": {
  "kernelspec": {
   "display_name": "Python 3",
   "language": "python",
   "name": "python3"
  },
  "language_info": {
   "codemirror_mode": {
    "name": "ipython",
    "version": 3
   },
   "file_extension": ".py",
   "mimetype": "text/x-python",
   "name": "python",
   "nbconvert_exporter": "python",
   "pygments_lexer": "ipython3",
   "version": "3.13.0"
  }
 },
 "nbformat": 4,
 "nbformat_minor": 2
}
