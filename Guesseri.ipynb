{
 "cells": [
  {
   "cell_type": "code",
   "execution_count": null,
   "metadata": {},
   "outputs": [
    {
     "name": "stdout",
     "output_type": "stream",
     "text": [
      "Arvaa uusiksi?\n",
      "P\n",
      "Arvaa uusiksi?\n",
      "Pe\n",
      "Arvaa uusiksi?\n",
      "Pen\n",
      "Arvaa uusiksi?\n",
      "Pena\n",
      "Arvaa uusiksi?\n",
      "Pena\n",
      "Voitit pelin! Arvasit nimen 6 yrityksellä.\n"
     ]
    }
   ],
   "source": [
    "name = \"Teemu\"\n",
    "guesses = 0\n",
    "\n",
    "while True:\n",
    "    guess = input(\"Mikä on nimeni? \")\n",
    "\n",
    "    guesses += 1\n",
    "\n",
    "    if guess == name:\n",
    "        print(\"Voitit pelin! Arvasit nimen\", guesses, \"yrityksellä.\")\n",
    "        break\n",
    "\n",
    "    print(\"Arvaa uusiksi?\")\n",
    "    quit_choice = input(\"Haluatko lopettaa? (k/e): \")\n",
    "\n",
    "    if quit_choice.lower() == 'k':\n",
    "        print(\"Lopetit pelin.\")\n",
    "        break\n",
    "\n",
    "    else:\n",
    "        print(name[:guesses])\n"
   ]
  }
 ],
 "metadata": {
  "kernelspec": {
   "display_name": "Python 3",
   "language": "python",
   "name": "python3"
  },
  "language_info": {
   "codemirror_mode": {
    "name": "ipython",
    "version": 3
   },
   "file_extension": ".py",
   "mimetype": "text/x-python",
   "name": "python",
   "nbconvert_exporter": "python",
   "pygments_lexer": "ipython3",
   "version": "3.13.0"
  }
 },
 "nbformat": 4,
 "nbformat_minor": 2
}
