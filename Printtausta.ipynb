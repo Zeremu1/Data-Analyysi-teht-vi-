{
 "cells": [
  {
   "cell_type": "code",
   "execution_count": 3,
   "metadata": {},
   "outputs": [
    {
     "name": "stdout",
     "output_type": "stream",
     "text": [
      "Printer App\n",
      "This app is made by Teemu\n"
     ]
    }
   ],
   "source": [
    "creator = \"Teemu\"\n",
    "\n",
    "print(\"Printer App\" + \"\\nThis app is made by \" + creator)"
   ]
  },
  {
   "cell_type": "code",
   "execution_count": null,
   "metadata": {},
   "outputs": [
    {
     "name": "stdout",
     "output_type": "stream",
     "text": [
      "The value of number1 is 7\n",
      "The value of number2 is 2\n",
      "The result of multiplication is 14\n",
      "The result of division is 3.5\n",
      "The result of substraction is 5\n",
      "The result of addition is 9\n"
     ]
    }
   ],
   "source": [
    "number1 = 7\n",
    "number2 = 2\n",
    "\n",
    "multiplication = number1 * number2\n",
    "division = number1 / number2\n",
    "substraction = number1 - number2\n",
    "addition = number1 + number2\n",
    "\n",
    "#print(number1)\n",
    "print(\"The value of number1 is\",number1)\n",
    "print(\"The value of number2 is\",number2)\n",
    "\n",
    "print(\"The result of multiplication is\",multiplication)\n",
    "print(\"The result of division is\",division)\n",
    "print(\"The result of substraction is\",substraction)\n",
    "print(\"The result of addition is\",addition)\n",
    "#print(\"Value\",number1)"
   ]
  }
 ],
 "metadata": {
  "kernelspec": {
   "display_name": "Python 3",
   "language": "python",
   "name": "python3"
  },
  "language_info": {
   "codemirror_mode": {
    "name": "ipython",
    "version": 3
   },
   "file_extension": ".py",
   "mimetype": "text/x-python",
   "name": "python",
   "nbconvert_exporter": "python",
   "pygments_lexer": "ipython3",
   "version": "3.13.0"
  }
 },
 "nbformat": 4,
 "nbformat_minor": 2
}
