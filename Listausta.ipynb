{
 "cells": [
  {
   "cell_type": "code",
   "execution_count": 1,
   "metadata": {},
   "outputs": [
    {
     "name": "stdout",
     "output_type": "stream",
     "text": [
      "Sofa\n"
     ]
    }
   ],
   "source": [
    "huonekaluja = [None] * 5\n",
    "huonekaluja[0] = \"Chair\"\n",
    "huonekaluja[1] = \"Table\"\n",
    "huonekaluja[2] = \"Sofa\"\n",
    "huonekaluja[3] = \"Shelf\"\n",
    "huonekaluja[4] = \"Mattress\"\n",
    "\n",
    "for huonekalu in huonekaluja:\n",
    "    if huonekalu == \"Sofa\":\n",
    "        print(huonekalu)"
   ]
  },
  {
   "cell_type": "code",
   "execution_count": 150,
   "metadata": {},
   "outputs": [
    {
     "name": "stdout",
     "output_type": "stream",
     "text": [
      "Heitettyjen noppien summa: 2, 4, 6, 3, 3\n",
      "Numeroitten summa: 18\n",
      "Isoin numero: 6\n"
     ]
    }
   ],
   "source": [
    "import random\n",
    "\n",
    "thrownDiceNumbers = [None] * 5\n",
    "\n",
    "for i in range(5):\n",
    "    thrownDiceNumbers[i] = random.randint(1, 6)\n",
    "\n",
    "print(\"Heitettyjen noppien summa:\", \", \".join(str(number) for number in thrownDiceNumbers))\n",
    "\n",
    "sum_of_values = sum(thrownDiceNumbers)\n",
    "print(\"Numeroitten summa:\", sum_of_values)\n",
    "\n",
    "max_value = max(thrownDiceNumbers)\n",
    "print(\"Isoin numero:\", max_value)"
   ]
  },
  {
   "cell_type": "code",
   "execution_count": 142,
   "metadata": {},
   "outputs": [
    {
     "name": "stdout",
     "output_type": "stream",
     "text": [
      "5 randomi lukua: 7, 8, 14, 16, 3\n"
     ]
    }
   ],
   "source": [
    "#EXTRA\n",
    "\n",
    "import random\n",
    "random.sample(range(20), 5)\n",
    "\n",
    "randomNumbers = range(1, 20)\n",
    "\n",
    "# for i in range(5):\n",
    "    # r = random.randint(1, 20)\n",
    "    # if r not in randomNumbers:\n",
    "        # randomNumbers.append(r)\n",
    "\n",
    "print(\"5 randomi lukua:\", \", \".join(str(number) for number in random.sample(randomNumbers, 5)))"
   ]
  }
 ],
 "metadata": {
  "kernelspec": {
   "display_name": "Python 3",
   "language": "python",
   "name": "python3"
  },
  "language_info": {
   "codemirror_mode": {
    "name": "ipython",
    "version": 3
   },
   "file_extension": ".py",
   "mimetype": "text/x-python",
   "name": "python",
   "nbconvert_exporter": "python",
   "pygments_lexer": "ipython3",
   "version": "3.13.0"
  }
 },
 "nbformat": 4,
 "nbformat_minor": 2
}
